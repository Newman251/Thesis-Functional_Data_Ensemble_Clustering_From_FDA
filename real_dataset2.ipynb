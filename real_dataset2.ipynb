{
 "cells": [
  {
   "cell_type": "code",
   "execution_count": 28,
   "metadata": {},
   "outputs": [],
   "source": [
    "# Read from Datasets/ECG5000/ECG5000_TEST.txt\n",
    "\n",
    "import numpy as np\n",
    "import matplotlib.pyplot as plt\n",
    "\n",
    "# Read from Datasets/ECGFiveDays/ECGFiveDays_TEST.txt, and get the first column as the labels\n",
    "true_labels = np.genfromtxt('Datasets/ECG200/ECG.txt', delimiter=' ', usecols=0)\n",
    "\n",
    "# Read from Datasets/ECGFiveDays/ECGFiveDays_TEST.txt\n",
    "data = np.genfromtxt('Datasets/ECG200/ECG.txt', delimiter='  ', usecols=range(1,141))"
   ]
  },
  {
   "cell_type": "code",
   "execution_count": 18,
   "metadata": {},
   "outputs": [],
   "source": [
    "X, y = fetch_growth(return_X_y=True, as_frame=True)\n"
   ]
  },
  {
   "cell_type": "code",
   "execution_count": 13,
   "metadata": {},
   "outputs": [],
   "source": []
  },
  {
   "cell_type": "code",
   "execution_count": 26,
   "metadata": {},
   "outputs": [
    {
     "data": {
      "text/html": [
       "<div>\n",
       "<style scoped>\n",
       "    .dataframe tbody tr th:only-of-type {\n",
       "        vertical-align: middle;\n",
       "    }\n",
       "\n",
       "    .dataframe tbody tr th {\n",
       "        vertical-align: top;\n",
       "    }\n",
       "\n",
       "    .dataframe thead th {\n",
       "        text-align: right;\n",
       "    }\n",
       "</style>\n",
       "<table border=\"1\" class=\"dataframe\">\n",
       "  <thead>\n",
       "    <tr style=\"text-align: right;\">\n",
       "      <th></th>\n",
       "      <th>height</th>\n",
       "    </tr>\n",
       "  </thead>\n",
       "  <tbody>\n",
       "    <tr>\n",
       "      <th>0</th>\n",
       "      <td>Data set:    [[[ 81.3]\n",
       "  [ 84.2]\n",
       "  [ 86.4]\n",
       "  [...</td>\n",
       "    </tr>\n",
       "  </tbody>\n",
       "</table>\n",
       "</div>"
      ],
      "text/plain": [
       "                                              height\n",
       "0  Data set:    [[[ 81.3]\n",
       "  [ 84.2]\n",
       "  [ 86.4]\n",
       "  [..."
      ]
     },
     "execution_count": 26,
     "metadata": {},
     "output_type": "execute_result"
    }
   ],
   "source": [
    "# Get a list of the raw data\n",
    "raw_data = X[0:1]\n",
    "raw_data\n",
    "\n",
    "data = X"
   ]
  },
  {
   "cell_type": "code",
   "execution_count": 27,
   "metadata": {},
   "outputs": [
    {
     "ename": "TypeError",
     "evalue": "m > k must hold",
     "output_type": "error",
     "traceback": [
      "\u001b[1;31m---------------------------------------------------------------------------\u001b[0m",
      "\u001b[1;31mTypeError\u001b[0m                                 Traceback (most recent call last)",
      "\u001b[1;32mc:\\Users\\lukej\\Documents\\ProjectDocs\\Project_code\\simuations\\real_dataset4.ipynb Cell 5\u001b[0m in \u001b[0;36m<cell line: 6>\u001b[1;34m()\u001b[0m\n\u001b[0;32m      <a href='vscode-notebook-cell:/c%3A/Users/lukej/Documents/ProjectDocs/Project_code/simuations/real_dataset4.ipynb#X12sZmlsZQ%3D%3D?line=2'>3</a>\u001b[0m \u001b[39mfrom\u001b[39;00m \u001b[39mensemble_clustering\u001b[39;00m \u001b[39mimport\u001b[39;00m functional_data_decomposition, functional_data_clustering\n\u001b[0;32m      <a href='vscode-notebook-cell:/c%3A/Users/lukej/Documents/ProjectDocs/Project_code/simuations/real_dataset4.ipynb#X12sZmlsZQ%3D%3D?line=3'>4</a>\u001b[0m \u001b[39mfrom\u001b[39;00m \u001b[39mfda_results\u001b[39;00m \u001b[39mimport\u001b[39;00m percentage_variation_ami_ari, plot_percentage_variation_ami_ari\n\u001b[1;32m----> <a href='vscode-notebook-cell:/c%3A/Users/lukej/Documents/ProjectDocs/Project_code/simuations/real_dataset4.ipynb#X12sZmlsZQ%3D%3D?line=5'>6</a>\u001b[0m data_smooth, mean, principal_componenets, eigen_functions \u001b[39m=\u001b[39m functional_data_decomposition (data, \u001b[39m10\u001b[39;49m, \u001b[39m250\u001b[39;49m)\n\u001b[0;32m      <a href='vscode-notebook-cell:/c%3A/Users/lukej/Documents/ProjectDocs/Project_code/simuations/real_dataset4.ipynb#X12sZmlsZQ%3D%3D?line=7'>8</a>\u001b[0m \u001b[39m# For loop to plot a 2x2 set of scatter plots for the kernel density plots of the first four principal components\u001b[39;00m\n\u001b[0;32m      <a href='vscode-notebook-cell:/c%3A/Users/lukej/Documents/ProjectDocs/Project_code/simuations/real_dataset4.ipynb#X12sZmlsZQ%3D%3D?line=8'>9</a>\u001b[0m fig, ax \u001b[39m=\u001b[39m plt\u001b[39m.\u001b[39msubplots(\u001b[39m2\u001b[39m, \u001b[39m2\u001b[39m, figsize\u001b[39m=\u001b[39m(\u001b[39m10\u001b[39m, \u001b[39m10\u001b[39m))\n",
      "File \u001b[1;32mc:\\Users\\lukej\\Documents\\ProjectDocs\\Project_code\\simuations\\ensemble_clustering.py:18\u001b[0m, in \u001b[0;36mfunctional_data_decomposition\u001b[1;34m(data, V, b_spline_length)\u001b[0m\n\u001b[0;32m     15\u001b[0m t \u001b[39m=\u001b[39m np\u001b[39m.\u001b[39mexpand_dims(np\u001b[39m.\u001b[39mlinspace(\u001b[39m0\u001b[39m, \u001b[39m10\u001b[39m, \u001b[39mlen\u001b[39m(data[\u001b[39m0\u001b[39m])), \u001b[39m1\u001b[39m)\n\u001b[0;32m     17\u001b[0m \u001b[39mfor\u001b[39;00m i \u001b[39min\u001b[39;00m \u001b[39mrange\u001b[39m(\u001b[39mlen\u001b[39m(data)):\n\u001b[1;32m---> 18\u001b[0m     tck \u001b[39m=\u001b[39m interpolate\u001b[39m.\u001b[39;49msplrep(t, data[i], s\u001b[39m=\u001b[39;49m\u001b[39m0\u001b[39;49m,k\u001b[39m=\u001b[39;49m\u001b[39m3\u001b[39;49m) \n\u001b[0;32m     19\u001b[0m     x_new \u001b[39m=\u001b[39m np\u001b[39m.\u001b[39mlinspace(\u001b[39mmin\u001b[39m(t), \u001b[39mmax\u001b[39m(t), b_spline_length)\n\u001b[0;32m     20\u001b[0m     y_fit \u001b[39m=\u001b[39m interpolate\u001b[39m.\u001b[39mBSpline(\u001b[39m*\u001b[39mtck)(x_new)\n",
      "File \u001b[1;32m~\\AppData\\Roaming\\Python\\Python310\\site-packages\\scipy\\interpolate\\_fitpack_py.py:291\u001b[0m, in \u001b[0;36msplrep\u001b[1;34m(x, y, w, xb, xe, k, task, s, t, full_output, per, quiet)\u001b[0m\n\u001b[0;32m    160\u001b[0m \u001b[39mdef\u001b[39;00m \u001b[39msplrep\u001b[39m(x, y, w\u001b[39m=\u001b[39m\u001b[39mNone\u001b[39;00m, xb\u001b[39m=\u001b[39m\u001b[39mNone\u001b[39;00m, xe\u001b[39m=\u001b[39m\u001b[39mNone\u001b[39;00m, k\u001b[39m=\u001b[39m\u001b[39m3\u001b[39m, task\u001b[39m=\u001b[39m\u001b[39m0\u001b[39m, s\u001b[39m=\u001b[39m\u001b[39mNone\u001b[39;00m, t\u001b[39m=\u001b[39m\u001b[39mNone\u001b[39;00m,\n\u001b[0;32m    161\u001b[0m            full_output\u001b[39m=\u001b[39m\u001b[39m0\u001b[39m, per\u001b[39m=\u001b[39m\u001b[39m0\u001b[39m, quiet\u001b[39m=\u001b[39m\u001b[39m1\u001b[39m):\n\u001b[0;32m    162\u001b[0m     \u001b[39m\"\"\"\u001b[39;00m\n\u001b[0;32m    163\u001b[0m \u001b[39m    Find the B-spline representation of a 1-D curve.\u001b[39;00m\n\u001b[0;32m    164\u001b[0m \n\u001b[1;32m   (...)\u001b[0m\n\u001b[0;32m    289\u001b[0m \n\u001b[0;32m    290\u001b[0m \u001b[39m    \"\"\"\u001b[39;00m\n\u001b[1;32m--> 291\u001b[0m     res \u001b[39m=\u001b[39m _impl\u001b[39m.\u001b[39;49msplrep(x, y, w, xb, xe, k, task, s, t, full_output, per, quiet)\n\u001b[0;32m    292\u001b[0m     \u001b[39mreturn\u001b[39;00m res\n",
      "File \u001b[1;32m~\\AppData\\Roaming\\Python\\Python310\\site-packages\\scipy\\interpolate\\_fitpack_impl.py:461\u001b[0m, in \u001b[0;36msplrep\u001b[1;34m(x, y, w, xb, xe, k, task, s, t, full_output, per, quiet)\u001b[0m\n\u001b[0;32m    458\u001b[0m     \u001b[39mraise\u001b[39;00m \u001b[39mTypeError\u001b[39;00m(\u001b[39m'\u001b[39m\u001b[39mGiven degree of the spline (k=\u001b[39m\u001b[39m%d\u001b[39;00m\u001b[39m) is not supported. \u001b[39m\u001b[39m'\u001b[39m\n\u001b[0;32m    459\u001b[0m                     \u001b[39m'\u001b[39m\u001b[39m(1<=k<=5)\u001b[39m\u001b[39m'\u001b[39m \u001b[39m%\u001b[39m k)\n\u001b[0;32m    460\u001b[0m \u001b[39mif\u001b[39;00m m \u001b[39m<\u001b[39m\u001b[39m=\u001b[39m k:\n\u001b[1;32m--> 461\u001b[0m     \u001b[39mraise\u001b[39;00m \u001b[39mTypeError\u001b[39;00m(\u001b[39m'\u001b[39m\u001b[39mm > k must hold\u001b[39m\u001b[39m'\u001b[39m)\n\u001b[0;32m    462\u001b[0m \u001b[39mif\u001b[39;00m xb \u001b[39mis\u001b[39;00m \u001b[39mNone\u001b[39;00m:\n\u001b[0;32m    463\u001b[0m     xb \u001b[39m=\u001b[39m x[\u001b[39m0\u001b[39m]\n",
      "\u001b[1;31mTypeError\u001b[0m: m > k must hold"
     ]
    }
   ],
   "source": [
    "import scipy\n",
    "from scipy import spatial, interpolate\n",
    "from ensemble_clustering import functional_data_decomposition, functional_data_clustering\n",
    "from fda_results import percentage_variation_ami_ari, plot_percentage_variation_ami_ari\n",
    "\n",
    "data_smooth, mean, principal_componenets, eigen_functions = functional_data_decomposition (data, 10, 250)\n",
    "\n",
    "# For loop to plot a 2x2 set of scatter plots for the kernel density plots of the first four principal components\n",
    "fig, ax = plt.subplots(2, 2, figsize=(10, 10))\n",
    "for i in range(4):\n",
    "    # Kernel density plot for principal components[i], as a scatter plot\n",
    "    # Determine the desnity of principal components[i]\n",
    "    kde = scipy.stats.gaussian_kde(principal_componenets[:,i])\n",
    "    # Create a grid of points\n",
    "    x_grid = np.linspace(min(principal_componenets[:,i]), max(principal_componenets[:,i]), 100)\n",
    "    # Evaluate the density on the grid\n",
    "    density = kde(x_grid)\n",
    "    # Plot the density\n",
    "    ax[i//2, i%2].plot(x_grid, density, color='b', linestyle='--')\n",
    "    ax[i//2, i%2].set_title('KDE Plot of FPC Scores for Eigen Dimension ' + str(i+1))\n",
    "    ax[i//2, i%2].set_xlabel('FPC Scores for Eigen Dimension ' + str(i+1))\n",
    "    ax[i//2, i%2].set_ylabel('Density')\n",
    "plt.show()\n",
    "\n"
   ]
  },
  {
   "cell_type": "code",
   "execution_count": 28,
   "metadata": {},
   "outputs": [
    {
     "ename": "",
     "evalue": "",
     "output_type": "error",
     "traceback": [
      "\u001b[1;31mCanceled future for execute_request message before replies were done"
     ]
    },
    {
     "ename": "",
     "evalue": "",
     "output_type": "error",
     "traceback": [
      "\u001b[1;31mThe Kernel crashed while executing code in the the current cell or a previous cell. Please review the code in the cell(s) to identify a possible cause of the failure. Click <a href='https://aka.ms/vscodeJupyterKernelCrash'>here</a> for more info. View Jupyter <a href='command:jupyter.viewOutput'>log</a> for further details."
     ]
    }
   ],
   "source": [
    "# Plot all the data depending on its true label\n",
    "for i in range(len(X)):\n",
    "    if true_label[i] == 0:\n",
    "        plt.plot(X[i], '-b')\n",
    "    elif true_label[i] == 1:\n",
    "        plt.plot(X[i], '-r')"
   ]
  }
 ],
 "metadata": {
  "kernelspec": {
   "display_name": "Python 3",
   "language": "python",
   "name": "python3"
  },
  "language_info": {
   "codemirror_mode": {
    "name": "ipython",
    "version": 3
   },
   "file_extension": ".py",
   "mimetype": "text/x-python",
   "name": "python",
   "nbconvert_exporter": "python",
   "pygments_lexer": "ipython3",
   "version": "3.10.6"
  },
  "orig_nbformat": 4,
  "vscode": {
   "interpreter": {
    "hash": "26de051ba29f2982a8de78e945f0abaf191376122a1563185a90213a26c5da77"
   }
  }
 },
 "nbformat": 4,
 "nbformat_minor": 2
}
